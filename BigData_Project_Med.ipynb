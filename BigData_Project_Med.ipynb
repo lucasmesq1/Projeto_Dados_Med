{
  "nbformat": 4,
  "nbformat_minor": 0,
  "metadata": {
    "colab": {
      "provenance": [],
      "collapsed_sections": [
        "QoVNdHg_2m1W",
        "NATIXFAI3DON",
        "-Yisgg1E8660",
        "fyn4KnSBBn6q",
        "8QFn5wVzXp8M"
      ],
      "include_colab_link": true
    },
    "kernelspec": {
      "name": "python3",
      "display_name": "Python 3"
    },
    "language_info": {
      "name": "python"
    }
  },
  "cells": [
    {
      "cell_type": "markdown",
      "metadata": {
        "id": "view-in-github",
        "colab_type": "text"
      },
      "source": [
        "<a href=\"https://colab.research.google.com/github/lucasmesq1/Projeto_Dados_Med/blob/main/BigData_Project_Med.ipynb\" target=\"_parent\"><img src=\"https://colab.research.google.com/assets/colab-badge.svg\" alt=\"Open In Colab\"/></a>"
      ]
    },
    {
      "cell_type": "markdown",
      "source": [
        "##**Apresentação**"
      ],
      "metadata": {
        "id": "0XQo0TL0demj"
      }
    },
    {
      "cell_type": "markdown",
      "source": [
        "##**1. Bibliotecas Importadas**"
      ],
      "metadata": {
        "id": "ZPm0FpPb2Bhl"
      }
    },
    {
      "cell_type": "code",
      "execution_count": null,
      "metadata": {
        "id": "zmDpGdpp1p5W"
      },
      "outputs": [],
      "source": [
        "import pandas as pd\n",
        "import numpy as np\n",
        "import matplotlib.pyplot as plt\n",
        "from google.colab import drive\n",
        "import seaborn as sns\n",
        "plt.style.use('ggplot')\n"
      ]
    },
    {
      "cell_type": "markdown",
      "source": [
        "##**2. Lendo o Dataset**"
      ],
      "metadata": {
        "id": "QoVNdHg_2m1W"
      }
    },
    {
      "cell_type": "code",
      "source": [
        "from google.colab import drive\n",
        "drive.mount('/content/drive')\n",
        "\n",
        "#Definindo o caminho dos datasets a utilizar\n",
        "anvisa2019 = '/content/drive/MyDrive/projeto_bigdata/anvisa2019.csv'\n",
        "anvisa2021 = 'https://drive.google.com/drive/folders/1SV6hbRJ4g050YiUEgGnyqTyecqrU20wE?usp=drive_link'\n",
        "print(\"Datasets acessados via google drive\")"
      ],
      "metadata": {
        "id": "WBnumGq9mMCT"
      },
      "execution_count": null,
      "outputs": []
    },
    {
      "cell_type": "code",
      "source": [
        "# Defina o tamanho do chunk\n",
        "chunksize = 10000\n",
        "\n",
        "# lista para armazenar os dados processados\n",
        "df_old = []\n",
        "\n",
        "# Leia o arquivo em pedaços\n",
        "for chunk in pd.read_csv(\"anvisa2021.csv\", chunksize=chunksize):\n",
        "\n",
        "    df_old.append(chunk)  # Armazena o chunk se precisar de todos os dados\n",
        "\n",
        "# Concatenar um DataFrame único no final\n",
        "df_new = pd.concat(df_old, ignore_index=True)\n",
        "\n",
        "print(df_new.head())"
      ],
      "metadata": {
        "id": "lYzT9xophfG9"
      },
      "execution_count": null,
      "outputs": []
    },
    {
      "cell_type": "code",
      "source": [
        "#Retorna o tamanho do DF, linhas x colunas\n",
        "df_new.shape"
      ],
      "metadata": {
        "id": "oLN6y7PJ-T1s"
      },
      "execution_count": null,
      "outputs": []
    },
    {
      "cell_type": "code",
      "source": [
        "#Mostra um resumo conciso sobre o DF\n",
        "df_new.info()"
      ],
      "metadata": {
        "id": "zK6xWAwm20_j"
      },
      "execution_count": null,
      "outputs": []
    },
    {
      "cell_type": "code",
      "source": [
        "#Gera descrições para as colunas (dados numéricos e categóricos)\n",
        "df_new.describe(include='all')"
      ],
      "metadata": {
        "id": "N_H_Nolh21fH"
      },
      "execution_count": null,
      "outputs": []
    },
    {
      "cell_type": "code",
      "source": [
        "#Fornece uma contagem do número de valores nulos(ou ausentes) em cada coluna do DF\n",
        "df_new.isnull().sum()"
      ],
      "metadata": {
        "id": "FhnKT46g25NO"
      },
      "execution_count": null,
      "outputs": []
    },
    {
      "cell_type": "code",
      "source": [
        "#Calcular a porcentagem de valores nulos em cada coluna\n",
        "df_new.isnull().sum()/df_new.shape[0]*100"
      ],
      "metadata": {
        "id": "9El3gnJ625Yh"
      },
      "execution_count": null,
      "outputs": []
    },
    {
      "cell_type": "code",
      "source": [
        "#Retorna o número total de linhas que são duplicadas em relação a linhas anteriores\n",
        "df_new.duplicated().sum()"
      ],
      "metadata": {
        "id": "2uhuBzmX2-xQ"
      },
      "execution_count": null,
      "outputs": []
    },
    {
      "cell_type": "markdown",
      "source": [
        "##**3. Tratando os Dados**"
      ],
      "metadata": {
        "id": "NATIXFAI3DON"
      }
    },
    {
      "cell_type": "code",
      "source": [
        "#Removendo colunas\n",
        "df = df_new.drop(columns=['ANO_VENDA','MES_VENDA','DCB','CONSELHO_PRESCRITOR','UF_CONSELHO_PRESCRITOR','CID10'])\n",
        "df.head(3)"
      ],
      "metadata": {
        "id": "H414bFu03KUW"
      },
      "execution_count": null,
      "outputs": []
    },
    {
      "cell_type": "code",
      "source": [
        "#Percorre todas as colunas que contêm dados do tipo \"object\" (geralmente strings ou textos) e imprime a contagem de valores únicos para cada uma dessas colunas.\n",
        "for i in df.select_dtypes(include='object').columns:\n",
        "    print(df[i].value_counts())\n",
        "    print('***' * 10)\n"
      ],
      "metadata": {
        "id": "Tqdk6mB93dID"
      },
      "execution_count": null,
      "outputs": []
    },
    {
      "cell_type": "code",
      "source": [
        "#Utilizado para obter estatísticas descritivas das colunas que contêm dados do tipo \"object\"\n",
        "df.describe(include='object')"
      ],
      "metadata": {
        "id": "Ghhq9r5R3fjV"
      },
      "execution_count": null,
      "outputs": []
    },
    {
      "cell_type": "code",
      "source": [
        "#Histograma para a distribuição\n",
        "import warnings\n",
        "warnings.filterwarnings('ignore')\n",
        "\n",
        "for i in df.select_dtypes(include='number').columns:\n",
        "    sns.histplot(data=df, x=i)\n",
        "    plt.show()"
      ],
      "metadata": {
        "id": "huhx2Yq63i0i"
      },
      "execution_count": null,
      "outputs": []
    },
    {
      "cell_type": "code",
      "source": [
        "import warnings\n",
        "warnings.filterwarnings('ignore')\n",
        "\n",
        "for i in df.select_dtypes(include='number').columns:\n",
        "    sns.boxplot(data=df, x=i)\n",
        "    plt.show()"
      ],
      "metadata": {
        "id": "U8e-K17X4dpn"
      },
      "execution_count": null,
      "outputs": []
    },
    {
      "cell_type": "markdown",
      "source": [
        "**3.1 Missing Value**"
      ],
      "metadata": {
        "id": "7SSlnFhx3mEV"
      }
    },
    {
      "cell_type": "code",
      "source": [
        "df.isnull().sum()"
      ],
      "metadata": {
        "id": "Zbhvm-X2364V"
      },
      "execution_count": null,
      "outputs": []
    },
    {
      "cell_type": "code",
      "source": [
        "colunas = ['SEXO','IDADE','UNIDADE_IDADE']\n",
        "for col in colunas:\n",
        "    df[col] = df[col].fillna(df[col].median())"
      ],
      "metadata": {
        "id": "PStsQjUn8NbZ"
      },
      "execution_count": null,
      "outputs": []
    },
    {
      "cell_type": "code",
      "source": [
        "from sklearn.impute import SimpleImputer\n",
        "impute = SimpleImputer(strategy='mean')"
      ],
      "metadata": {
        "id": "97Z3tLWN81Eg"
      },
      "execution_count": null,
      "outputs": []
    },
    {
      "cell_type": "code",
      "source": [
        "for i in df.select_dtypes(include='number').columns:\n",
        "    df[i] = impute.fit_transform(df[[i]])"
      ],
      "metadata": {
        "id": "51s3mpg-Blhm"
      },
      "execution_count": null,
      "outputs": []
    },
    {
      "cell_type": "markdown",
      "source": [
        "**3.2. Tratar Outliers**"
      ],
      "metadata": {
        "id": "0SvVxPgFhzXG"
      }
    },
    {
      "cell_type": "code",
      "source": [
        "df.select_dtypes(include=['number'])"
      ],
      "metadata": {
        "id": "roiF8i2oiB3U"
      },
      "execution_count": null,
      "outputs": []
    },
    {
      "cell_type": "code",
      "source": [
        "#def tratar_outliers(df, colunas):\n",
        " #   for coluna in colunas:\n",
        "        # Calcular Q1 e Q3\n",
        "  #      Q1 = df[coluna].quantile(0.25)\n",
        "   #     Q3 = df[coluna].quantile(0.75)\n",
        "    #    IQR = Q3 - Q1\n",
        "\n",
        "        # Definir limites\n",
        "     #   limite_inferior = Q1 - 1.5 * IQR\n",
        "      #  limite_superior = Q3 + 1.5 * IQR\n",
        "\n",
        "        # Substituir outliers por NaN\n",
        "       # df[coluna] = df[coluna].where((df[coluna] >= limite_inferior) & (df[coluna] <= limite_superior), other=pd.NA)\n",
        "\n",
        "   # return df\n",
        "\n",
        "# Tratando outliers nas colunas especificadas\n",
        "#colunas_para_tratar = []\n",
        "#df_tratado = tratar_outliers(df, colunas_para_tratar)\n",
        "\n",
        "#print(df_tratado)"
      ],
      "metadata": {
        "id": "b2vbFlIlhz1k"
      },
      "execution_count": null,
      "outputs": []
    },
    {
      "cell_type": "markdown",
      "source": [
        "##**4. Análise Descritiva**"
      ],
      "metadata": {
        "id": "-Yisgg1E8660"
      }
    },
    {
      "cell_type": "markdown",
      "source": [
        "**4.1. Análise Univariada**"
      ],
      "metadata": {
        "id": "n5PXn7tJ9FoY"
      }
    },
    {
      "cell_type": "code",
      "source": [
        "f1 = df['UF_VENDA'].value_counts()\n",
        "\n",
        "plt.figure(figsize=(10, 6))\n",
        "f1.plot(kind='bar')\n",
        "plt.title('Frequência para cada estado')\n",
        "plt.xlabel('Estados(UF)')\n",
        "plt.ylabel('Quantidade')\n",
        "plt.xticks(rotation=45)\n",
        "plt.show()"
      ],
      "metadata": {
        "id": "MVh3mW-0xfUL"
      },
      "execution_count": null,
      "outputs": []
    },
    {
      "cell_type": "code",
      "source": [
        "f2 = df['TIPO_RECEITUARIO'].value_counts()\n",
        "\n",
        "plt.figure(figsize=(10, 6))\n",
        "f2.plot(kind='bar')\n",
        "plt.title('Gráfico da frequência')\n",
        "plt.xlabel('Municípios')\n",
        "plt.ylabel('Quantidade')\n",
        "plt.xticks(rotation=90)\n",
        "plt.show()"
      ],
      "metadata": {
        "id": "7ecvqS5m5oPP"
      },
      "execution_count": null,
      "outputs": []
    },
    {
      "cell_type": "code",
      "source": [
        "f3 = df['SEXO'].value_counts()\n",
        "\n",
        "# Definindo cores específicas para masculino e feminino\n",
        "cores = ['blue' if sexo == 1.0 else 'pink' for sexo in f3.index]\n",
        "\n",
        "# Criando o gráfico de barras\n",
        "plt.figure(figsize=(10, 6))\n",
        "f3.plot(kind='bar', color=cores, edgecolor='black')\n",
        "plt.title('Frequência por Sexo')\n",
        "plt.xlabel('Feminino                                                           Masculino')\n",
        "plt.ylabel('Quantidade')\n",
        "plt.xticks(rotation=0)  # Rotação dos rótulos no eixo x\n",
        "plt.grid(axis='y')  # Adiciona uma grade no eixo y\n",
        "plt.show()"
      ],
      "metadata": {
        "id": "MNO2xfO59Xb5"
      },
      "execution_count": null,
      "outputs": []
    },
    {
      "cell_type": "code",
      "source": [
        "# Filtrar para idades até 120\n",
        "df = df[df['IDADE'] <= 120]\n",
        "\n",
        "# Definir faixas etárias\n",
        "bins = [0, 20, 30, 40, 50, 60, 70, 80, 90, 100]\n",
        "labels = ['0-19', '20-29', '30-39', '40-49', '50-59', '60-69', '70-79', '80-89', '90-99']\n",
        "\n",
        "# Criar uma coluna de faixas etárias\n",
        "df['faixa_etaria'] = pd.cut(df['IDADE'], bins=bins, labels=labels, right=False)\n",
        "\n",
        "# Contar a frequência de cada faixa etária\n",
        "faixa_counts = df['faixa_etaria'].value_counts().sort_index()\n",
        "\n",
        "# Criar o gráfico de barras\n",
        "plt.bar(faixa_counts.index, faixa_counts.values)\n",
        "plt.xlabel('Faixa Etária')\n",
        "plt.ylabel('Frequência')\n",
        "plt.title('Distribuição de Idades por Faixa Etária (até 120 anos)')\n",
        "plt.xticks(rotation=45)  # Rotacionar os rótulos do eixo x para melhor legibilidade\n",
        "plt.show()\n"
      ],
      "metadata": {
        "id": "Ldhi_zm7rcig"
      },
      "execution_count": null,
      "outputs": []
    },
    {
      "cell_type": "markdown",
      "source": [
        "**4.2. Análise Bivariada**"
      ],
      "metadata": {
        "id": "UnCcNpUW4Nyh"
      }
    },
    {
      "cell_type": "code",
      "source": [
        "df['LOCAL'] = df['MUNICIPIO_VENDA'] + ' - ' + df['UF_VENDA']"
      ],
      "metadata": {
        "id": "IIuwhpJN3cIU"
      },
      "execution_count": null,
      "outputs": []
    },
    {
      "cell_type": "code",
      "source": [
        "df['AMOSTRA_VENDA'] = df['PRINCIPIO_ATIVO'].astype(str) + ' - ' + df['QTD_UNIDADE_FARMACOTECNICA'].astype(str)"
      ],
      "metadata": {
        "id": "dHPTSWkmlqHM"
      },
      "execution_count": null,
      "outputs": []
    },
    {
      "cell_type": "code",
      "source": [
        "df['AMOSTRA_COM_LOCAL'] = df['AMOSTRA_VENDA'].astype(str) + ' - ' + df['LOCAL'].astype(str)"
      ],
      "metadata": {
        "id": "Tp2qbGWZOrBo"
      },
      "execution_count": null,
      "outputs": []
    },
    {
      "cell_type": "code",
      "source": [
        "# Função para filtrar dados relevantes de uma coluna\n",
        "print(\"Filtro\")\n",
        "def filtrar_top_10_frequencias(df, coluna):\n",
        "    frequencias = df[coluna].value_counts()\n",
        "    top_10_valores = frequencias.nlargest(10).index\n",
        "    df_filtrado = df[df[coluna].isin(top_10_valores)]\n",
        "    return df_filtrado"
      ],
      "metadata": {
        "id": "a7suB58F4ajI",
        "colab": {
          "base_uri": "https://localhost:8080/"
        },
        "outputId": "90da9973-964b-4d9f-8783-dc904653a624"
      },
      "execution_count": null,
      "outputs": [
        {
          "output_type": "stream",
          "name": "stdout",
          "text": [
            "Filtro\n"
          ]
        }
      ]
    },
    {
      "cell_type": "code",
      "source": [
        "# Tabela \"LOCAL\"\n",
        "df_filtrado = filtrar_top_10_frequencias(df, 'LOCAL')\n",
        "\n",
        "# Contar as frequências dos produtos filtrados\n",
        "frequencias_filtradas = df_filtrado['LOCAL'].value_counts().reset_index()\n",
        "frequencias_filtradas.columns = ['Produto', 'Frequência']\n",
        "\n",
        "# Plotar o gráfico de barras usando seaborn\n",
        "plt.figure(figsize=(10, 6))\n",
        "sns.barplot(x='Produto', y='Frequência', data=frequencias_filtradas, palette='Blues_d')\n",
        "plt.title('Maior Compra')\n",
        "plt.xlabel('UF/Cidades')\n",
        "plt.ylabel('Quantidade')\n",
        "plt.xticks(rotation=45)\n",
        "plt.show()"
      ],
      "metadata": {
        "id": "bUyJKX9b4aoo"
      },
      "execution_count": null,
      "outputs": []
    },
    {
      "cell_type": "code",
      "source": [
        "# Tabela de \"AMOSTRAS\"\n",
        "df_filtrado = filtrar_top_10_frequencias(df, 'AMOSTRA_VENDA')\n",
        "\n",
        "# Contar as frequências dos produtos filtrados\n",
        "frequencias_filtradas = df_filtrado['AMOSTRA_VENDA'].value_counts().reset_index()\n",
        "frequencias_filtradas.columns = ['Produto', 'Quantidade']\n",
        "\n",
        "# Plotar o gráfico de barras usando seaborn\n",
        "plt.figure(figsize=(10, 6))\n",
        "sns.barplot(x='Produto', y='Quantidade', data=frequencias_filtradas, palette='Blues_d')\n",
        "plt.title('Top 10 Produtos mais Vendidos')\n",
        "plt.xlabel('Produto')\n",
        "plt.ylabel('Quantidade')\n",
        "plt.xticks(rotation=80)\n",
        "plt.show()"
      ],
      "metadata": {
        "id": "N8wC-4QH4m7c"
      },
      "execution_count": null,
      "outputs": []
    },
    {
      "cell_type": "code",
      "source": [
        "# Tabela de \"AMOSTRAS\"\n",
        "df_filtrado = filtrar_top_10_frequencias(df, 'AMOSTRA_COM_LOCAL')\n",
        "\n",
        "# Contar as frequências dos produtos filtrados\n",
        "frequencias_filtradas = df_filtrado['AMOSTRA_COM_LOCAL'].value_counts().reset_index()\n",
        "frequencias_filtradas.columns = ['Produto', 'Quantidade']\n",
        "\n",
        "# Plotar o gráfico de barras usando seaborn\n",
        "plt.figure(figsize=(10, 6))\n",
        "sns.barplot(x='Produto', y='Quantidade', data=frequencias_filtradas, palette='Blues_d')\n",
        "plt.title('Top 10 Produtos mais Vendidos')\n",
        "plt.xlabel('Produto')\n",
        "plt.ylabel('Quantidade')\n",
        "plt.xticks(rotation=80)\n",
        "plt.show()"
      ],
      "metadata": {
        "id": "a0o_bnu-O5_M"
      },
      "execution_count": null,
      "outputs": []
    },
    {
      "cell_type": "markdown",
      "source": [
        "**4.3. Análise Multivariada**"
      ],
      "metadata": {
        "id": "xrvo1w97EOdc"
      }
    },
    {
      "cell_type": "code",
      "source": [
        "# MAPA DE CALOR\n",
        "colunas_numericas = df.select_dtypes(include=['float64', 'int64'])\n",
        "\n",
        "correlacao = colunas_numericas.corr()\n",
        "\n",
        "plt.figure(figsize=(10, 8))\n",
        "sns.heatmap(correlacao, annot=True, cmap='coolwarm', linewidths=0.5)\n",
        "plt.title(\"Matriz de Correlação\")\n",
        "plt.show()"
      ],
      "metadata": {
        "id": "QJyyn2rnEXsG"
      },
      "execution_count": null,
      "outputs": []
    },
    {
      "cell_type": "code",
      "source": [
        "# Filtrar os top 10 da coluna 'AMOSTRA_VENDA'\n",
        "top_10_amostras = df['AMOSTRA_VENDA'].value_counts().nlargest(10).index\n",
        "\n",
        "# Filtrar o DataFrame com as 10 principais categorias\n",
        "df_top_10 = df[df['AMOSTRA_VENDA'].isin(top_10_amostras)]\n",
        "\n",
        "# Criar o Violin Plot para os top 10\n",
        "plt.figure(figsize=(10, 6))\n",
        "sns.violinplot(x='AMOSTRA_VENDA', y='IDADE', data=df_top_10)\n",
        "\n",
        "# Personalizar o gráfico\n",
        "plt.title(\"Distribuição de Idades por Categoria de Medicamento (Top 10)\")\n",
        "plt.xlabel(\"Categoria de Medicamento\")\n",
        "plt.ylabel(\"Idade\")\n",
        "plt.xticks(rotation=80)  # Rotacionar os rótulos no eixo X se necessário\n",
        "plt.show()"
      ],
      "metadata": {
        "id": "XUeaD3I-rSWs"
      },
      "execution_count": null,
      "outputs": []
    },
    {
      "cell_type": "code",
      "source": [
        "# Filtrar os top 10 da coluna 'AMOSTRA_VENDA'\n",
        "top_10_amostras = df['AMOSTRA_VENDA'].value_counts().nlargest(10).index\n",
        "\n",
        "# Filtrar o DataFrame com as 10 principais categorias\n",
        "df_top_10 = df[df['AMOSTRA_VENDA'].isin(top_10_amostras)]\n",
        "\n",
        "# Criar o Violin Plot para os top 10\n",
        "plt.figure(figsize=(10, 6))\n",
        "sns.violinplot(x='AMOSTRA_VENDA', y='SEXO', data=df_top_10)\n",
        "\n",
        "# Personalizar o gráfico\n",
        "plt.title(\"Distribuição dos sexos por Categoria de Medicamento (Top 10)\")\n",
        "plt.xlabel(\"Categoria de Medicamento\")\n",
        "plt.ylabel(\"Gêneros\")\n",
        "plt.xticks(rotation=80)  # Rotacionar os rótulos no eixo X se necessário\n",
        "plt.show()"
      ],
      "metadata": {
        "id": "07RC19w8rRnq"
      },
      "execution_count": null,
      "outputs": []
    },
    {
      "cell_type": "markdown",
      "source": [
        "##**5. Resultados dos Datasets**"
      ],
      "metadata": {
        "id": "fyn4KnSBBn6q"
      }
    },
    {
      "cell_type": "markdown",
      "source": [
        "**Dataset Anvisa-2019**\n",
        "\n",
        "- O tratamento de Outliers não precisou ser usado, pois a maioria dos valores pareciam veridicos, porém ao analisarmos a distribuição com um gráfico Boxplot a coluna \"IDADE\" parecia ter alguns valores inconsistentes.\n",
        "\n",
        "**Análise Univariada:**\n",
        "\n",
        "- Gráfico com a frequência de vendas em cada estado(UF) do Brasil - (SP, MG, PR, GO, ES).\n",
        "- Gráfico de tipos de receitas mais usadas - (1, 5, 2).\n",
        "- Gráfico do Sexo do paciente para quem o medicamento era\n",
        "destinado (antimicrobianos) - (3-4x mais o sexo feminino).\n",
        "- Gráfico da distribuição por Idade - (30-40 anos maiores vendas).\n",
        "\n",
        "**Análise Bivariada**\n",
        "\n",
        "- Criando a Coluna \"LOCAL\" somando as tabelas \"UF_VENDA\" e \"MUNICIPIOS_VENDA\" a maior demanda foi nos municípios - (Goiânia, São Paulo, Curitiba, Belo Horizonte).\n",
        "- Criando a Coluna \"AMOSTRAS_VENDA\" somando as tabelas \"PRINCIPIO_ATIVO\" e \"QTD_UNIDADE_FARMACOTECNICA\" - (Gabapentina, Cloridrato de Amitriptilina, C. Fluoxetina e C.Bupropiona), a (quantidade de vendas chega em torno de 5000 para cada medicamento).\n",
        "- Criando a Coluna \"AMOSTRA_COM_LOCAL\" mostrando qual UF-Municipio onde os principios ativos foram mais vendidos - (Isotretinoína-Goiania, Cloridrato de Burpropiona-Goiania e C.Tramadol-Goiania).\n",
        "\n",
        "**Análise Multivariada**\n",
        "\n",
        "- Criando um Heatmap das colunas que possuem dados numéricos\n",
        "- Criando um gráfico que relaciona a amostras vendidas com as idade dos pacientes - (entre 30-40 anos de idade).\n",
        "- Criando um gráfico mostrando que o sexo feminino predomina, e os principios ativos de medicamentos mais comprado para essas pacientes - (Cloridrato de Amitriptilina, C. Paroxetina, C. Sertralina)."
      ],
      "metadata": {
        "id": "0s2gL7IqrfLq"
      }
    },
    {
      "cell_type": "markdown",
      "source": [
        "**Dataset Anvisa-2021**\n",
        "\n",
        "- O tratamento de Outliers não precisou ser usado, pois a maioria dos valores pareciam veridicos, porém ao analisarmos a distribuição com um gráfico Boxplot a coluna \"IDADE\" parecia ter alguns valores inconsistentes.  \n",
        "\n",
        "**Análise Univariada:**\n",
        "\n",
        "- Gráfico de Barras dos estados que mais ocorreu  venda - (SP, MG, GO, PR, RJ).\n",
        "- Gráfico de tipos de receitas mais usadas - (tipo 1, 5 e 2).\n",
        "- O gráfico do sexo dos pacientes para quem o medicamento era destinado - (3-4x mais o sexo feminino).\n",
        "- Distribuição da idade dos pacientes - (20 a 30 anos)  (aplicável apenas a medicamentos antimicrobianos).\n",
        "\n",
        "**Análise Bivariada**\n",
        "\n",
        "-  Criando a Coluna \"LOCAL\" somando as tabelas \"UF_VENDA\" e \"MUNICIPIOS_VENDA\" a maior demanda foi nos municípios - (São Paulo, Goiania e Curitiba).\n",
        "- Criando a Coluna \"AMOSTRAS_VENDA\" somando as tabelas \"PRINCIPIO_ATIVO\" e \"QTD_UNIDADE_FARMACOTECNICA\" - (Gabapentina, Cloridrato de Amitriptilina, C. Fluoxetina e C.Bupropiona), e a (quantidade de vendas chega entre 30.000 para cada medicamento).\n",
        "-Criando a Coluna \"AMOSTRA_COM_LOCAL\" mostrando qual UF-Municipio onde os principios ativos foram mais vendidos - (C. de Bupropiona, Isotretinoína, Topiramato - Goiânia).\n",
        "\n",
        "**Análise Multivariada**\n",
        "\n",
        "- Criando um Heatmap das colunas que possuem dados numéricos\n",
        "- Criando um gráfico que relaciona a amostras vendidas com as idade dos pacientes - (entre 20-40 anos de idade).\n",
        "- Criando um gráfico mostrando que o sexo feminino predomina, e os principios ativos de medicamentos mais comprado para essas pacientes - (Gabapentina e Cloridrato de Amitriptilina)."
      ],
      "metadata": {
        "id": "nby6fdNiShMZ"
      }
    },
    {
      "cell_type": "markdown",
      "source": [
        "##**6. Analisando os Dados**"
      ],
      "metadata": {
        "id": "8QFn5wVzXp8M"
      }
    },
    {
      "cell_type": "markdown",
      "source": [
        "**Vendas por Estado (UF)**\n",
        "\n",
        "- Em 2019, os estados com maior volume de vendas foram São Paulo (SP), Minas Gerais (MG), Paraná (PR), Goiás (GO) e Espírito Santo (ES). São Paulo foi, de longe, o estado com o maior número de vendas, seguido por Minas Gerais e Paraná.\n",
        "\n",
        "- Em 2021, a distribuição das vendas por estado permaneceu similar, com São Paulo (SP) liderando novamente, seguido de Minas Gerais (MG) e Goiás (GO). No entanto, observou-se um aumento nas vendas em Goiânia (GO) e Curitiba (PR), o que pode indicar um deslocamento da demanda para essas regiões, possivelmente devido à concentração de clínicas e hospitais especializados.\n",
        "\n",
        "**Tipos de Receitas Mais Usadas**\n",
        "\n",
        "- Em 2019, os tipos de receita mais utilizados foram os Tipos 1, 5 e 2. O Tipo 1, que pode representar medicamentos para tratamentos crônicos, liderou as vendas, seguido dos Tipos 5 e 2, que incluem tratamentos para doenças psicológicas e antibióticos.\n",
        "\n",
        "- Em 2021, a distribuição das receitas manteve-se similar, com o Tipo 1 novamente liderando, seguido pelos Tipos 5 e 2. Contudo, observou-se um aumento nas receitas para tratamentos psicológicos, possivelmente impulsionado pelo aumento da demanda por medicamentos relacionados à saúde mental devido aos efeitos da pandemia de COVID-19.\n",
        "\n",
        "**Distribuição por Sexo**\n",
        "\n",
        "- Em 2019, foi observada uma predominância do sexo feminino nas vendas de medicamentos, especialmente nos antimicrobianos, com mulheres representando de 3 a 4 vezes mais que os homens.\n",
        "\n",
        "- Em 2021, o perfil de consumo manteve-se consistente, com o sexo feminino liderando a demanda por medicamentos, especialmente para tratamentos de doenças psicológicas, como antidepressivos (ex.: Cloridrato de Amitriptilina, Fluoxetina).\n",
        "\n",
        "**Distribuição por Idade**\n",
        "\n",
        "- Em 2019, a faixa etária com maior demanda por medicamentos foi a de 30 a 40 anos, especialmente para medicamentos antimicrobianos, indicando que essa faixa etária foi a mais afetada por infecções que exigem tratamentos com antibióticos.\n",
        "\n",
        "- Em 2021, observou-se uma mudança na faixa etária predominante. A faixa etária de 20 a 30 anos foi mais relevante para medicamentos antimicrobianos, possivelmente devido a um aumento no diagnóstico e tratamento de doenças infecciosas entre jovens adultos.\n",
        "\n",
        "**Principais Medicamentos Vendidos**\n",
        "\n",
        "- Os medicamentos mais vendidos em 2019 foram Gabapentina, Cloridrato de Amitriptilina, Fluoxetina e Bupropiona, principalmente no tratamento de doenças neurológicas e psicológicas.\n",
        "\n",
        "- Em 2021, os medicamentos mais vendidos mantiveram-se semelhantes, mas com destaque para a Cloridrato de Bupropiona, que teve um aumento nas vendas, associado à crescente demanda por antidepressivos e tratamentos de saúde mental."
      ],
      "metadata": {
        "id": "2EkNi7jVX_FV"
      }
    }
  ]
}